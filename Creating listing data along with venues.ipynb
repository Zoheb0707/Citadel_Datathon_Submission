{
 "cells": [
  {
   "cell_type": "code",
   "execution_count": null,
   "metadata": {},
   "outputs": [],
   "source": [
    "import pandas as pd\n",
    "import math"
   ]
  },
  {
   "cell_type": "code",
   "execution_count": null,
   "metadata": {},
   "outputs": [],
   "source": [
    "venues = pd.read_csv(filepath_or_buffer = 'venues.csv')\n",
    "listings = pd.read_csv(filepath_or_buffer = 'listings.csv',low_memory=False)\n",
    "venues = venues[['city', 'id', 'latitude', 'longitude', 'rating', 'types']]\n",
    "listings = listings[['city', 'latitude', 'longitude', 'id',]]\n",
    "venues.dropna(inplace=True)\n",
    "listings.dropna(inplace=True)"
   ]
  },
  {
   "cell_type": "markdown",
   "metadata": {},
   "source": [
    "for each listing:\n",
    "    we have city, lat, long\n",
    "    list_venues_near_listing = []\n",
    "    number_of_venues_near_listing = 0\n",
    "    avg_rating_of_venues = 0\n",
    "    filter venues for that city.\n",
    "    for each venu:\n",
    "        calculate dist using lat,long\n",
    "        if dist < 5k:\n",
    "            list_venues_near_listing.append(venu)\n",
    "            number_of_venues += 1\n",
    "            avg_rating_of_venues += rating for this venue"
   ]
  },
  {
   "cell_type": "code",
   "execution_count": null,
   "metadata": {},
   "outputs": [],
   "source": [
    "venue_types = set()\n",
    "for i in range(0,len(venues)):\n",
    "    element_1_non_filtered = (venues['types'].iloc[i]).split(',')[0]\n",
    "    element_1_filtered = element_1_non_filtered[2:len(element_1_non_filtered)-1]\n",
    "    venue_types.add(element_1_filtered)"
   ]
  },
  {
   "cell_type": "code",
   "execution_count": null,
   "metadata": {},
   "outputs": [],
   "source": [
    "list_to_make_df = []\n",
    "for i in range(0,len(listings)):\n",
    "    listing_city = listings['city'].iloc[i]\n",
    "    lat_1 = listings['latitude'].iloc[i]\n",
    "    long_1 = listings['longitude'].iloc[i]\n",
    "    listing_id = listings['id'].iloc[i]\n",
    "    row_i = [listing_id]\n",
    "    \n",
    "    filtered_venues = venues[venues['city'] == listing_city]\n",
    "    venue_mapper = dict.fromkeys(venue_types,0)\n",
    "    number_of_venues = 0\n",
    "    avg_rating = 0\n",
    "    \n",
    "    for j in range(0,len(filtered_venues)):\n",
    "        \n",
    "        lat_2 = filtered_venues['latitude'].iloc[j]\n",
    "        long_2 = filtered_venues['longitude'].iloc[j]\n",
    "        dlat = math.radians(lat_1 - lat_2)\n",
    "        dlon = math.radians(long_1 - long_2)\n",
    "        lat1 = math.radians(lat_1)\n",
    "        lat2 = math.radians(lat_2)\n",
    "        earthRadiusKm = 6371\n",
    "        a = math.sin(dlat/2) * math.sin(dlat/2) + math.sin(dlon/2) * math.sin(dlon/2) * math.cos(lat1) * math.cos(lat2)\n",
    "        c = 2 * math.atan2(math.sqrt(a), math.sqrt(1-a))\n",
    "        if earthRadiusKm*c  < 10:\n",
    "            venue_type_unfiltered = (filtered_venues['types'].iloc[j]).split(',')[0]\n",
    "            venue_type_filtered = venue_type_unfiltered[2:len(venue_type_unfiltered)-1]\n",
    "            venue_mapper[venue_type_filtered] += 1\n",
    "            number_of_venues += 1\n",
    "            avg_rating += filtered_venues['rating'].iloc[j]\n",
    "    row_i.append(number_of_venues)\n",
    "    if number_of_venues > 0:\n",
    "        row_i.append(avg_rating/number_of_venues)\n",
    "    else:\n",
    "        row_i.append(0)\n",
    "    for val in venue_mapper.values():\n",
    "        row_i.append(val)\n",
    "    list_to_make_df.append(row_i)"
   ]
  },
  {
   "cell_type": "code",
   "execution_count": null,
   "metadata": {},
   "outputs": [],
   "source": [
    "columns = ['listing_id', 'number_of_venues', 'avg_rating']\n",
    "for element in venue_mapper.keys():\n",
    "    columns.append(element)"
   ]
  },
  {
   "cell_type": "code",
   "execution_count": null,
   "metadata": {},
   "outputs": [],
   "source": [
    "output = pd.DataFrame(data = list_to_make_df, columns = columns)"
   ]
  },
  {
   "cell_type": "code",
   "execution_count": null,
   "metadata": {},
   "outputs": [],
   "source": [
    "output"
   ]
  },
  {
   "cell_type": "code",
   "execution_count": null,
   "metadata": {},
   "outputs": [],
   "source": [
    "output.to_csv(path_or_buf = 'listing_venues.csv')"
   ]
  }
 ],
 "metadata": {
  "kernelspec": {
   "display_name": "Python 3",
   "language": "python",
   "name": "python3"
  },
  "language_info": {
   "codemirror_mode": {
    "name": "ipython",
    "version": 3
   },
   "file_extension": ".py",
   "mimetype": "text/x-python",
   "name": "python",
   "nbconvert_exporter": "python",
   "pygments_lexer": "ipython3",
   "version": "3.6.5"
  }
 },
 "nbformat": 4,
 "nbformat_minor": 2
}
